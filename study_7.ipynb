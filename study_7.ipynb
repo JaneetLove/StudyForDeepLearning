{
 "cells": [
  {
   "cell_type": "code",
   "execution_count": 2,
   "metadata": {},
   "outputs": [
    {
     "name": "stdout",
     "output_type": "stream",
     "text": [
      "起点坐标为(3,4,5),100次迭代,函数的最小值坐标为\n",
      "[1.89117941e-07 4.57820448e-11 1.57460855e+12]\n",
      "最小值为\n",
      "-4.958784168400248e+24\n"
     ]
    }
   ],
   "source": [
    " def numerical_gradient(f,x):\n",
    "        h = 1e-4 #0.0001\n",
    "        grad = np.zeros_like(x) #生成和x形状相同的数组\n",
    "        \n",
    "        for idx in range(x.size):\n",
    "            tmp_val = x[idx]\n",
    "            #f(x+h)的计算\n",
    "            x[idx] = tmp_val+h\n",
    "            fxh1 = f(x)\n",
    "            \n",
    "            #f(x-h)的计算\n",
    "            x[idx] = tmp_val-h\n",
    "            fxh2 = f(x)\n",
    "            \n",
    "            grad[idx] = (fxh1-fxh2)/(2*h)\n",
    "            x[idx] = tmp_val #还原值\n",
    "        return grad\n",
    "def gradient_descent(f,init_x,lr=0.01,step_num=100):\n",
    "    x = init_x\n",
    "    \n",
    "    for i in range(step_num):\n",
    "        grad = numerical_gradient(f,x)\n",
    "        x -= lr*grad\n",
    "        \n",
    "    return x\n",
    "\n",
    "import numpy as np\n",
    "def function_3(x):\n",
    "    return 3 * (x[0]**2) + 5 * (x[1]**2) - 2 * (x[2]**2)\n",
    "init_x = np.array([3.0,4.4,5.0])\n",
    "print(\"起点坐标为(3,4,5),100次迭代,函数的最小值坐标为\")\n",
    "a = gradient_descent(function_3,init_x=init_x,lr = 0.1,step_num=100)\n",
    "print(a)\n",
    "print(\"最小值为\")\n",
    "print(function_3(a))"
   ]
  },
  {
   "cell_type": "code",
   "execution_count": null,
   "metadata": {},
   "outputs": [],
   "source": []
  }
 ],
 "metadata": {
  "kernelspec": {
   "display_name": "Python 3",
   "language": "python",
   "name": "python3"
  },
  "language_info": {
   "codemirror_mode": {
    "name": "ipython",
    "version": 3
   },
   "file_extension": ".py",
   "mimetype": "text/x-python",
   "name": "python",
   "nbconvert_exporter": "python",
   "pygments_lexer": "ipython3",
   "version": "3.7.1"
  }
 },
 "nbformat": 4,
 "nbformat_minor": 2
}
