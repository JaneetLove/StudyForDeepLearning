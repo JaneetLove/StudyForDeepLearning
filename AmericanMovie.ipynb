{
 "cells": [
  {
   "cell_type": "code",
   "execution_count": 1,
   "metadata": {},
   "outputs": [
    {
     "name": "stdout",
     "output_type": "stream",
     "text": [
      "推荐的电影为: ['Kumiko, The Treasure Hunter (2015)']\n"
     ]
    }
   ],
   "source": [
    "import pandas as pd\n",
    "import numpy as np\n",
    "data=pd.read_csv('fandango_scores.csv')\n",
    "data['RottenTomatoes']=data['RottenTomatoes']/10\n",
    "data['RottenTomatoes_User']=data['RottenTomatoes_User']/10\n",
    "data['Metacritic']=data['Metacritic']/10\n",
    "def m(x1,x2,x3,x4,x5):\n",
    "    x=np.array([x1,x2,x3,x4,x5])\n",
    "    y=np.array([0.2,0.2,0.2,0.2,0.2])\n",
    "    tmp=np.sum(x*y)\n",
    "    if tmp>6:\n",
    "        return 1\n",
    "    else:\n",
    "        return 0\n",
    "def n(x1,x2,x3,x4,x5,x6,x7):\n",
    "    x=np.array([x1,x2,x3,x4,x5,x6,x7])\n",
    "    y=np.array([0.25,0.25,0.1,0.1,0.1,0.1,0.1])\n",
    "    tmp=np.sum(x*y)\n",
    "    if tmp>3:\n",
    "        return 1\n",
    "    else:\n",
    "        return 0\n",
    "select_movies=[]\n",
    "j=0\n",
    "for i in range(len(data)):\n",
    "       row = data.iloc[i]\n",
    "       result_m = m(row['RottenTomatoes'],row['RottenTomatoes_User'],row['Metacritic'],row['Metacritic_User'],row['IMDB'])\n",
    "       result_n = n(row['Fandango_Stars'],row['Fandango_Ratingvalue'],row['RT_norm'],row['RT_user_norm'],row['Metacritic_norm'],row['Metacritic_user_nom'],row['IMDB_norm'])\n",
    "if result_m==1 and result_n==1:\n",
    "    select_movies.append(row['FILM'])\n",
    "print(\"推荐的电影为:\",select_movies)"
   ]
  },
  {
   "cell_type": "code",
   "execution_count": null,
   "metadata": {},
   "outputs": [],
   "source": []
  }
 ],
 "metadata": {
  "kernelspec": {
   "display_name": "Python 3",
   "language": "python",
   "name": "python3"
  },
  "language_info": {
   "codemirror_mode": {
    "name": "ipython",
    "version": 3
   },
   "file_extension": ".py",
   "mimetype": "text/x-python",
   "name": "python",
   "nbconvert_exporter": "python",
   "pygments_lexer": "ipython3",
   "version": "3.7.1"
  }
 },
 "nbformat": 4,
 "nbformat_minor": 2
}
